{
 "cells": [
  {
   "cell_type": "markdown",
   "metadata": {},
   "source": [
    "Job titles recommendation by skills\n",
    "\n",
    "recommend Job titles according to skills\n",
    "\n",
    "I used CountVectorizer for feature engineering. \n",
    "Then use cosine_similarity between inserted skills(after tranform it by Vectorizer) \n",
    "with each Dataset skill row after remove all nan and deplicated rows."
   ]
  },
  {
   "cell_type": "code",
   "execution_count": 1,
   "metadata": {},
   "outputs": [],
   "source": [
    "import numpy as np\n",
    "import pandas as pd\n",
    "\n",
    "#pre_processing libraries\n",
    "import string\n",
    "import re\n",
    "from nltk.corpus import stopwords\n",
    "stopwords=stopwords.words('english')\n",
    "from nltk.stem.wordnet import WordNetLemmatizer\n",
    "lemma = WordNetLemmatizer()\n",
    "\n",
    "# Import CountVectorizer and TfidfVectorizer\n",
    "from sklearn.feature_extraction.text import CountVectorizer,TfidfVectorizer\n",
    "\n",
    "from sklearn.metrics.pairwise import cosine_similarity"
   ]
  },
  {
   "cell_type": "code",
   "execution_count": 2,
   "metadata": {},
   "outputs": [],
   "source": [
    "#read data\n",
    "data=pd.read_csv('jobs_skills.csv')\n",
    "# delete some columns\n",
    "data = data.drop(['jobFunction','industry','_id'],axis=1)\n",
    "# delete nan rows\n",
    "data=data[data['skills'] != \"['nan']\"]\n",
    "# delete duplicated rows\n",
    "data=data.drop_duplicates(subset =\"skills\")\n",
    "# clean job title by remove everything after (_)\n",
    "data['title']=data['title'].str.split('-').str[0]"
   ]
  },
  {
   "cell_type": "code",
   "execution_count": 3,
   "metadata": {},
   "outputs": [
    {
     "data": {
      "text/html": [
       "<div>\n",
       "<style scoped>\n",
       "    .dataframe tbody tr th:only-of-type {\n",
       "        vertical-align: middle;\n",
       "    }\n",
       "\n",
       "    .dataframe tbody tr th {\n",
       "        vertical-align: top;\n",
       "    }\n",
       "\n",
       "    .dataframe thead th {\n",
       "        text-align: right;\n",
       "    }\n",
       "</style>\n",
       "<table border=\"1\" class=\"dataframe\">\n",
       "  <thead>\n",
       "    <tr style=\"text-align: right;\">\n",
       "      <th></th>\n",
       "      <th>title</th>\n",
       "      <th>skills</th>\n",
       "    </tr>\n",
       "  </thead>\n",
       "  <tbody>\n",
       "    <tr>\n",
       "      <th>0</th>\n",
       "      <td>Property Consultant</td>\n",
       "      <td>sale retail real estate sale target indoor sal...</td>\n",
       "    </tr>\n",
       "    <tr>\n",
       "      <th>1</th>\n",
       "      <td>Sales Representative</td>\n",
       "      <td>sale real estate sale target customer service ...</td>\n",
       "    </tr>\n",
       "    <tr>\n",
       "      <th>2</th>\n",
       "      <td>Receptionist</td>\n",
       "      <td>admin work office management administration ad...</td>\n",
       "    </tr>\n",
       "    <tr>\n",
       "      <th>3</th>\n",
       "      <td>Senior Property Consultant</td>\n",
       "      <td>sale real estate sale target computer skill co...</td>\n",
       "    </tr>\n",
       "    <tr>\n",
       "      <th>4</th>\n",
       "      <td>Senior SEO Specialist</td>\n",
       "      <td>marketing campaign e marketing digital marketi...</td>\n",
       "    </tr>\n",
       "  </tbody>\n",
       "</table>\n",
       "</div>"
      ],
      "text/plain": [
       "                        title  \\\n",
       "0         Property Consultant   \n",
       "1       Sales Representative    \n",
       "2                Receptionist   \n",
       "3  Senior Property Consultant   \n",
       "4       Senior SEO Specialist   \n",
       "\n",
       "                                              skills  \n",
       "0  sale retail real estate sale target indoor sal...  \n",
       "1  sale real estate sale target customer service ...  \n",
       "2  admin work office management administration ad...  \n",
       "3  sale real estate sale target computer skill co...  \n",
       "4  marketing campaign e marketing digital marketi...  "
      ]
     },
     "execution_count": 3,
     "metadata": {},
     "output_type": "execute_result"
    }
   ],
   "source": [
    "# clean job skills\n",
    "def clean(row):\n",
    "    row =row.lower()\n",
    "    row = re.sub(r'[^\\w]', ' ', row)\n",
    "    lemma_row = \" \".join(lemma.lemmatize(word) for word in row.split() \n",
    "                         if word not in stopwords )\n",
    "    return lemma_row\n",
    "\n",
    "data['skills']= [clean(row) for row in data['skills']]\n",
    "data.head()"
   ]
  },
  {
   "cell_type": "markdown",
   "metadata": {},
   "source": [
    "Build CountVectorizer vocablary "
   ]
  },
  {
   "cell_type": "code",
   "execution_count": 4,
   "metadata": {},
   "outputs": [],
   "source": [
    "vectorizer = CountVectorizer()\n",
    "count_matrix = vectorizer.fit_transform(data['skills'])"
   ]
  },
  {
   "cell_type": "code",
   "execution_count": 5,
   "metadata": {},
   "outputs": [
    {
     "data": {
      "text/plain": [
       "(5146, 3340)"
      ]
     },
     "execution_count": 5,
     "metadata": {},
     "output_type": "execute_result"
    }
   ],
   "source": [
    "#count_matrix has shape of rows= data rows no. and columns= data words no.\n",
    "count_matrix.shape"
   ]
  },
  {
   "cell_type": "code",
   "execution_count": 9,
   "metadata": {},
   "outputs": [],
   "source": [
    "\n",
    "def find_similarity(input_skills):\n",
    "    similarity_list=[]\n",
    "    recommended_jobs={}\n",
    "    #clean input_skills\n",
    "    input_skills=clean(input_skills)\n",
    "    #transform input_skills by vectorizer\n",
    "    input_skills=vectorizer.transform([input_skills])\n",
    "    \n",
    "    #cosine_similarity between input_skills with data skills\n",
    "    for i in range(1,data['skills'].shape[0]):\n",
    "        similarity_list.append(cosine_similarity(count_matrix[i], input_skills))\n",
    "        \n",
    "    # creating a Series with the similarity scores in descending order   \n",
    "    similarity_series = pd.Series(similarity_list).sort_values(ascending = False)\n",
    "    # getting the indexes of the 10 most similar jobs\n",
    "    top_10_indexes = list(similarity_series.iloc[1:11].index)\n",
    "    \n",
    "    # populating the list with the titles of the best 10 matching jobs\n",
    "    for i in top_10_indexes:\n",
    "        recommended_jobs[data.iloc[i,0]] = list(set(data['skills'][0])-set(data.iloc[i,1]))\n",
    "    return recommended_jobs\n",
    "    \n",
    "    "
   ]
  },
  {
   "cell_type": "code",
   "execution_count": 10,
   "metadata": {},
   "outputs": [
    {
     "name": "stdout",
     "output_type": "stream",
     "text": [
      "{'Property Consultant': ['n', 'd'], 'Sales Team Leader': ['p', 'o'], 'Purchasing Manager': ['k'], 'Site Engineer': ['p', 'y', 'k'], 'Social Media Specialist': ['y'], 'Office Manager': ['l', 'k'], 'Receptionist ': ['g', 'l', 'k', 'p', 'y'], 'IT Help Desk Specialist': [], 'OD Section Head': ['g', 'l', 'k', 'p', 'y'], 'Real Estate Sales Agent': []}\n"
     ]
    }
   ],
   "source": [
    "similar_job_titles= find_similarity(data['skills'][0])\n",
    "print(similar_job_titles)\n"
   ]
  },
  {
   "cell_type": "code",
   "execution_count": null,
   "metadata": {},
   "outputs": [],
   "source": []
  }
 ],
 "metadata": {
  "kernelspec": {
   "display_name": "Python 3",
   "language": "python",
   "name": "python3"
  },
  "language_info": {
   "codemirror_mode": {
    "name": "ipython",
    "version": 3
   },
   "file_extension": ".py",
   "mimetype": "text/x-python",
   "name": "python",
   "nbconvert_exporter": "python",
   "pygments_lexer": "ipython3",
   "version": "3.6.8"
  }
 },
 "nbformat": 4,
 "nbformat_minor": 2
}
