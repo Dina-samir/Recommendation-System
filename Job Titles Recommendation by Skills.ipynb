{
 "cells": [
  {
   "cell_type": "markdown",
   "metadata": {},
   "source": [
    "Here is Notebook for find more similar jobs to you skills, and find skill set gab between your skills and job skills.\n",
    "\n",
    "I used word2vec for feature engineering.\n",
    "Then use n_similarity between inserted skills and all Dataset skills after remove all nan and deplicated rows."
   ]
  },
  {
   "cell_type": "code",
   "execution_count": 2,
   "metadata": {},
   "outputs": [],
   "source": [
    "import numpy as np\n",
    "import pandas as pd\n",
    "import re\n",
    "from nltk.corpus import stopwords\n",
    "stopwords=stopwords.words('english')\n",
    "import string\n",
    "import ast\n",
    "from nltk.stem.wordnet import WordNetLemmatizer\n",
    "lemma = WordNetLemmatizer()\n",
    "# Import Word2Vec\n",
    "import gensim\n",
    "from gensim.models import Word2Vec\n"
   ]
  },
  {
   "cell_type": "code",
   "execution_count": 22,
   "metadata": {},
   "outputs": [
    {
     "data": {
      "text/html": [
       "<div>\n",
       "<style scoped>\n",
       "    .dataframe tbody tr th:only-of-type {\n",
       "        vertical-align: middle;\n",
       "    }\n",
       "\n",
       "    .dataframe tbody tr th {\n",
       "        vertical-align: top;\n",
       "    }\n",
       "\n",
       "    .dataframe thead th {\n",
       "        text-align: right;\n",
       "    }\n",
       "</style>\n",
       "<table border=\"1\" class=\"dataframe\">\n",
       "  <thead>\n",
       "    <tr style=\"text-align: right;\">\n",
       "      <th></th>\n",
       "      <th>title</th>\n",
       "      <th>skills</th>\n",
       "    </tr>\n",
       "  </thead>\n",
       "  <tbody>\n",
       "    <tr>\n",
       "      <th>0</th>\n",
       "      <td>Property Consultant</td>\n",
       "      <td>[sale, retail, real estate, sale target, indoo...</td>\n",
       "    </tr>\n",
       "    <tr>\n",
       "      <th>1</th>\n",
       "      <td>Sales Representative</td>\n",
       "      <td>[sale, real estate, sale target, customer serv...</td>\n",
       "    </tr>\n",
       "    <tr>\n",
       "      <th>2</th>\n",
       "      <td>Receptionist</td>\n",
       "      <td>[admin work, office management, administration...</td>\n",
       "    </tr>\n",
       "    <tr>\n",
       "      <th>3</th>\n",
       "      <td>Senior Property Consultant</td>\n",
       "      <td>[sale, real estate, sale target, computer skil...</td>\n",
       "    </tr>\n",
       "    <tr>\n",
       "      <th>4</th>\n",
       "      <td>Senior SEO Specialist</td>\n",
       "      <td>[marketing campaign, e-marketing, digital mark...</td>\n",
       "    </tr>\n",
       "  </tbody>\n",
       "</table>\n",
       "</div>"
      ],
      "text/plain": [
       "                        title  \\\n",
       "0         Property Consultant   \n",
       "1       Sales Representative    \n",
       "2                Receptionist   \n",
       "3  Senior Property Consultant   \n",
       "4       Senior SEO Specialist   \n",
       "\n",
       "                                              skills  \n",
       "0  [sale, retail, real estate, sale target, indoo...  \n",
       "1  [sale, real estate, sale target, customer serv...  \n",
       "2  [admin work, office management, administration...  \n",
       "3  [sale, real estate, sale target, computer skil...  \n",
       "4  [marketing campaign, e-marketing, digital mark...  "
      ]
     },
     "execution_count": 22,
     "metadata": {},
     "output_type": "execute_result"
    }
   ],
   "source": [
    "#read data\n",
    "data=pd.read_csv('jobs_skills.csv')\n",
    "# delete some columns\n",
    "data = data.drop(['jobFunction','industry','_id'],axis=1)\n",
    "# delete nan rows\n",
    "data=data[data['skills'] != \"['nan']\"]\n",
    "# delete duplicated rows\n",
    "data=data.drop_duplicates(subset =\"skills\")\n",
    "# clean job title by remove everything after (_)\n",
    "data['title']=data['title'].str.split('-').str[0]\n",
    "\n",
    "# clean job skills\n",
    "def clean(row):\n",
    "    row=row.lower()\n",
    "    row_list=ast.literal_eval(row)\n",
    "    lemma_text= [\" \".join(lemma.lemmatize(word) for word in sentence.split()) for sentence in row_list]\n",
    "    return lemma_text\n",
    "\n",
    "data['skills']= [clean(row) for row in data['skills']]\n",
    "data.head()"
   ]
  },
  {
   "cell_type": "code",
   "execution_count": 37,
   "metadata": {},
   "outputs": [],
   "source": [
    "#use word2vec to build word emmbedding for all skills\n",
    "trained_model = Word2Vec(data['skills'], size =50, window = 3, min_count=1,\n",
    "sg = 1)\n",
    "# save model\n",
    "trained_model.save('trained_model.bin')\n",
    "# load model\n",
    "trained_model = Word2Vec.load('trained_model.bin')"
   ]
  },
  {
   "cell_type": "code",
   "execution_count": 70,
   "metadata": {},
   "outputs": [],
   "source": [
    "#fuction take list of skills and return more similar job titles and skill set gap\n",
    "def find_similarity(input_skills):\n",
    "    similarity_list=[]\n",
    "    #n_similarity between input_skills and all data skills and append it to list\n",
    "    for _,row in data.iterrows():\n",
    "        similarity_list.append(trained_model.n_similarity(row[1], input_skills))\n",
    "        \n",
    "    similarity_series = pd.Series(similarity_list).sort_values(ascending = False)\n",
    "    \n",
    "    # getting the indexes of the 10 most similar jobs\n",
    "    top_10_indexes = list(similarity_series.iloc[0:10].index)\n",
    "    \n",
    "    # Build Dataframe of more similar jobs to inserted skills\n",
    "    s_data = ([data.iloc[i,0],similarity_series.iloc[i] ,list(set(data['skills'][0])-set(data.iloc[i,1]))] \n",
    "              for i in top_10_indexes) \n",
    "    df = pd.DataFrame(s_data , columns = ['job title','Similarity' ,'Skill Set Gap'])\n",
    "    return df   "
   ]
  },
  {
   "cell_type": "code",
   "execution_count": 71,
   "metadata": {},
   "outputs": [
    {
     "name": "stderr",
     "output_type": "stream",
     "text": [
      "C:\\Users\\DINA\\Anaconda3\\lib\\site-packages\\ipykernel_launcher.py:5: DeprecationWarning: Call to deprecated `n_similarity` (Method will be removed in 4.0.0, use self.wv.n_similarity() instead).\n",
      "  \"\"\"\n"
     ]
    },
    {
     "name": "stdout",
     "output_type": "stream",
     "text": [
      "                     job title  Similarity  \\\n",
      "0          Property Consultant    1.000000   \n",
      "1         Sales Representative    0.996162   \n",
      "2         Property Consultant     0.999848   \n",
      "3   Senior Property Consultant    0.780005   \n",
      "4  Junior Property Consultant     0.993862   \n",
      "5    Indirect Sales Executive     0.995626   \n",
      "6    Commercial Sales Manager     0.793453   \n",
      "7         Property Consultant     0.999798   \n",
      "8                  Sales Agent    0.991490   \n",
      "9      Senior Property Advisor    0.993149   \n",
      "\n",
      "                            Skill Set Gap  \n",
      "0                                      []  \n",
      "1                                [retail]  \n",
      "2                                [retail]  \n",
      "3                                [retail]  \n",
      "4                [property sales, retail]  \n",
      "5  [property sales, indoor sales, retail]  \n",
      "6          [property sales, indoor sales]  \n",
      "7  [property sales, indoor sales, retail]  \n",
      "8  [property sales, indoor sales, retail]  \n",
      "9                  [retail, sales target]  \n"
     ]
    }
   ],
   "source": [
    "jobs_similar_to_skills= find_similarity(['sales', 'retail', 'real estate', 'sales target', 'indoor sales', 'sales skills', 'property sales'])\n",
    "print(jobs_similar_to_skills)"
   ]
  },
  {
   "cell_type": "code",
   "execution_count": null,
   "metadata": {},
   "outputs": [],
   "source": []
  }
 ],
 "metadata": {
  "kernelspec": {
   "display_name": "Python 3",
   "language": "python",
   "name": "python3"
  },
  "language_info": {
   "codemirror_mode": {
    "name": "ipython",
    "version": 3
   },
   "file_extension": ".py",
   "mimetype": "text/x-python",
   "name": "python",
   "nbconvert_exporter": "python",
   "pygments_lexer": "ipython3",
   "version": "3.6.8"
  }
 },
 "nbformat": 4,
 "nbformat_minor": 2
}
